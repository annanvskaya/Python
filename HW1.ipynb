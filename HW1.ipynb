{
 "cells": [
  {
   "cell_type": "markdown",
   "metadata": {},
   "source": [
    "# Задача 1"
   ]
  },
  {
   "cell_type": "code",
   "execution_count": 31,
   "metadata": {},
   "outputs": [
    {
     "name": "stdout",
     "output_type": "stream",
     "text": [
      "   _~_       _~_       _~_       _~_       _~_    \n",
      "  (o o)     (o o)     (o o)     (o o)     (o o)   \n",
      " /  V  \\   /  V  \\   /  V  \\   /  V  \\   /  V  \\  \n",
      "/(  _  )\\ /(  _  )\\ /(  _  )\\ /(  _  )\\ /(  _  )\\ \n",
      "  ^^ ^^     ^^ ^^     ^^ ^^     ^^ ^^     ^^ ^^   \n"
     ]
    }
   ],
   "source": [
    "penguin_layers = [\n",
    "    \"   _~_   \",\n",
    "    \"  (o o)  \",\n",
    "    \" /  V  \\\\ \",\n",
    "    \"/(  _  )\\\\\",\n",
    "    \"  ^^ ^^  \"\n",
    "]\n",
    "\n",
    "\n",
    "def print_penguin(n):\n",
    "    if n < 1 or n > 9:\n",
    "        print('Число n должно быть от 1 до 9')\n",
    "        return\n",
    "    \n",
    "    for layer in penguin_layers:\n",
    "        layer_with_space = layer + \" \"\n",
    "        print(layer_with_space * n)\n",
    "    \n",
    "    \n",
    "print_penguin(5)"
   ]
  },
  {
   "cell_type": "markdown",
   "metadata": {},
   "source": [
    "# Задача 2"
   ]
  },
  {
   "cell_type": "code",
   "execution_count": 46,
   "metadata": {},
   "outputs": [
    {
     "name": "stdout",
     "output_type": "stream",
     "text": [
      "Количество слов: 2\n",
      "Количество символов: 11\n"
     ]
    }
   ],
   "source": [
    "def task2(string):\n",
    "    string_words = string.split(\" \")\n",
    "    print(\"Количество слов: \" + str(len(string_words)))\n",
    "    print(\"Количество символов: \" + str(len(string)))\n",
    "\n",
    "task2(\"Hello world\")"
   ]
  },
  {
   "cell_type": "markdown",
   "metadata": {},
   "source": [
    "# Задача 3"
   ]
  },
  {
   "cell_type": "code",
   "execution_count": 68,
   "metadata": {},
   "outputs": [
    {
     "name": "stdout",
     "output_type": "stream",
     "text": [
      "з\n",
      "в\n",
      "Возьм\n",
      "Возьмите достаточно длинную строку, хотя бы 20 символо\n",
      "Взмт оттчодинюсрк,хт ы2 ивлв\n",
      "оьиедсаон лну тоу ояб 0смоо.\n",
      ".воловмис 02 ыб ятох ,укортс юуннилд ончотатсод етимьзоВ\n",
      ".оомс0 бяо уот унл ноасдеиьо\n",
      "56\n"
     ]
    }
   ],
   "source": [
    "def task3(string):\n",
    "    # Сначала выведите третий символ этой строки.\n",
    "    print(string[2])\n",
    "    \n",
    "    # Во второй строке выведите предпоследний символ этой строки.\n",
    "    print(string[-2])\n",
    "    \n",
    "    # В третьей строке выведите первые пять символов этой строки.\n",
    "    print(string[:5])\n",
    "    \n",
    "    # В четвертой строке выведите всю строку, кроме последних двух символов.\n",
    "    print(string[:(len(string) - 2)])\n",
    "    \n",
    "    # В пятой строке выведите все символы с четными индексами (считая, что индексация начинается с 0, поэтому символы выводятся начиная с первого).\n",
    "    print(string[::2])\n",
    "    \n",
    "    # В шестой строке выведите все символы с нечетными индексами, то есть начиная со второго символа строки.\n",
    "    print(string[1::2])\n",
    "    \n",
    "    # В седьмой строке выведите все символы в обратном порядке.\n",
    "    print(string[::-1])\n",
    "    \n",
    "    # В восьмой строке выведите все символы строки через один в обратном порядке, начиная с последнего.\n",
    "    print(string[::-2])\n",
    "    \n",
    "    # В девятой строке выведите длину данной строки.\n",
    "    print(len(string))\n",
    "\n",
    "task3(\"Возьмите достаточно длинную строку, хотя бы 20 символов.\")"
   ]
  },
  {
   "cell_type": "markdown",
   "metadata": {},
   "source": [
    "# Задача 4"
   ]
  },
  {
   "cell_type": "code",
   "execution_count": 70,
   "metadata": {},
   "outputs": [
    {
     "name": "stdout",
     "output_type": "stream",
     "text": [
      "YES\n",
      "NO\n"
     ]
    }
   ],
   "source": [
    "def task4(word):\n",
    "    if word[::-1] == word:\n",
    "        print(\"YES\")\n",
    "    else:\n",
    "        print(\"NO\")\n",
    "\n",
    "task4(\"abba\")\n",
    "task4(\"abbaasdf\")"
   ]
  },
  {
   "cell_type": "markdown",
   "metadata": {},
   "source": [
    "# Задача 5"
   ]
  },
  {
   "cell_type": "code",
   "execution_count": 86,
   "metadata": {},
   "outputs": [
    {
     "name": "stdout",
     "output_type": "stream",
     "text": [
      "Введите любое слово: из\n",
      "Слово 'из' встречается в тексте 2 раз\n"
     ]
    }
   ],
   "source": [
    "text = \"\"\"\n",
    "законы физики рядом с черной дырой уже не работают в том представлении в котором мы привыкли \n",
    "пространство время искривляется и все события протекают уже совсем по другому \n",
    "словно пылесос черная дыра поглощает все что находится около нее планеты астероиды свет и прочее \n",
    "ранее считалось что черная дыра ничего не излучает но как доказал стивен хокинг черная дыра излучает антивещество \n",
    "то есть поедает вещество и выделяет антивещество \n",
    "ранее думали что если кинуть в черную дыру человека то ему труба порвет на субатомы \n",
    "но как оказалось по некоторым уравнениям есть определенные траектории путешествия сквозь черную дыру чтоб чувствовать себя нормально \n",
    "правда не ясно что будет за ней другой мир или ничего \n",
    "область вокруг черной дыры которая интересна называется горизонтом событий \n",
    "если туда полететь не зная волшебное уравнение то будет конечно не очень \n",
    "наблюдатель будет видеть как космический корабль влетает в горизонт событий и крайне медленно потом отдаляется пока не застынет в центре\n",
    "у самого же космонавта дела будут идти совсем по другому \n",
    "искривленное пространство будет лепить из него как из пластилина различные формы пока наконец не разорвет все на субатомы \n",
    "но для внешнего наблюдателя космонавт навсегда останется улыбающимся и махающим в иллюминатор застывшим изображением\n",
    "\"\"\"\n",
    "\n",
    "def task5(text):\n",
    "    words = text.split()\n",
    "    \n",
    "    user_input = input(\"Введите любое слово: \")\n",
    "    \n",
    "    if user_input in words:\n",
    "        user_input_count = words.count(user_input)\n",
    "        print(\"Слово '{}' встречается в тексте {} раз\".format(user_input, user_input_count))\n",
    "    else:\n",
    "        words.append(user_input)\n",
    "        print(\"Слово '{}' добавлено\".format(user_input))\n",
    "\n",
    "task5(text)"
   ]
  },
  {
   "cell_type": "code",
   "execution_count": null,
   "metadata": {},
   "outputs": [],
   "source": []
  },
  {
   "cell_type": "code",
   "execution_count": null,
   "metadata": {},
   "outputs": [],
   "source": []
  }
 ],
 "metadata": {
  "kernelspec": {
   "display_name": "Python 3",
   "language": "python",
   "name": "python3"
  },
  "language_info": {
   "codemirror_mode": {
    "name": "ipython",
    "version": 3
   },
   "file_extension": ".py",
   "mimetype": "text/x-python",
   "name": "python",
   "nbconvert_exporter": "python",
   "pygments_lexer": "ipython3",
   "version": "3.6.5"
  }
 },
 "nbformat": 4,
 "nbformat_minor": 2
}
