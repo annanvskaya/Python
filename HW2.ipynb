{
 "cells": [
  {
   "cell_type": "markdown",
   "metadata": {},
   "source": [
    "# Задание 1"
   ]
  },
  {
   "cell_type": "code",
   "execution_count": 1,
   "metadata": {},
   "outputs": [],
   "source": [
    "input_text = \"варкалось хливкие шорьки пырялись по наве и хрюкотали зелюки как мюмзики в мове о бойся бармаглота сын он так свирлеп и дик а в глyще рымит исполин злопастный брандашмыг\""
   ]
  },
  {
   "cell_type": "code",
   "execution_count": 2,
   "metadata": {},
   "outputs": [
    {
     "name": "stdout",
     "output_type": "stream",
     "text": [
      "('варкалось', 'хливкие')\n",
      "('хливкие', 'шорьки')\n",
      "('шорьки', 'пырялись')\n",
      "('пырялись', 'по')\n",
      "('по', 'наве')\n",
      "('наве', 'и')\n",
      "('и', 'хрюкотали')\n",
      "('хрюкотали', 'зелюки')\n",
      "('зелюки', 'как')\n",
      "('как', 'мюмзики')\n",
      "('мюмзики', 'в')\n",
      "('в', 'мове')\n",
      "('мове', 'о')\n",
      "('о', 'бойся')\n",
      "('бойся', 'бармаглота')\n",
      "('бармаглота', 'сын')\n",
      "('сын', 'он')\n",
      "('он', 'так')\n",
      "('так', 'свирлеп')\n",
      "('свирлеп', 'и')\n",
      "('и', 'дик')\n",
      "('дик', 'а')\n",
      "('а', 'в')\n",
      "('в', 'глyще')\n",
      "('глyще', 'рымит')\n",
      "('рымит', 'исполин')\n",
      "('исполин', 'злопастный')\n",
      "('злопастный', 'брандашмыг')\n"
     ]
    }
   ],
   "source": [
    "words = input_text.split()\n",
    "\n",
    "text_bigrams = []\n",
    "\n",
    "for i in range(0, len(words) - 1):\n",
    "    bigram = (words[i], words[i + 1])\n",
    "    print(bigram)\n",
    "    text_bigrams.append(bigram)\n",
    "\n",
    "    "
   ]
  },
  {
   "cell_type": "markdown",
   "metadata": {},
   "source": [
    "# Задание 2"
   ]
  },
  {
   "cell_type": "code",
   "execution_count": null,
   "metadata": {},
   "outputs": [],
   "source": []
  },
  {
   "cell_type": "code",
   "execution_count": 12,
   "metadata": {
    "scrolled": true
   },
   "outputs": [
    {
     "name": "stdout",
     "output_type": "stream",
     "text": [
      "сказки\n",
      "шредингер.txt\n",
      "котики\n",
      "боль.txt\n",
      "ворон.txt\n",
      "кладь.txt\n",
      "деды.txt\n",
      "ночь.txt\n",
      "файлы в папке poems: 6\n"
     ]
    }
   ],
   "source": [
    "import os\n",
    "\n",
    "current_dir = os.getcwd()\n",
    "\n",
    "poems_dir = os.path.join(current_dir, \"poems\")\n",
    "\n",
    "files_in_poems = []\n",
    "for item in os.listdir(poems_dir):\n",
    "    print(item)\n",
    "    \n",
    "    if os.path.isfile(os.path.join(poems_dir, item)):\n",
    "        files_in_poems.append(item)\n",
    "        \n",
    "    \n",
    "print(\"файлы в папке poems: \" + str(len(files_in_poems)))\n"
   ]
  },
  {
   "cell_type": "code",
   "execution_count": 14,
   "metadata": {},
   "outputs": [
    {
     "name": "stdout",
     "output_type": "stream",
     "text": [
      "/Users/annanevskaya/Documents/Python-glya-gumanitariev/Python/poems/шредингер.txt\n",
      "/Users/annanevskaya/Documents/Python-glya-gumanitariev/Python/poems/боль.txt\n",
      "/Users/annanevskaya/Documents/Python-glya-gumanitariev/Python/poems/ворон.txt\n",
      "/Users/annanevskaya/Documents/Python-glya-gumanitariev/Python/poems/кладь.txt\n",
      "/Users/annanevskaya/Documents/Python-glya-gumanitariev/Python/poems/деды.txt\n",
      "/Users/annanevskaya/Documents/Python-glya-gumanitariev/Python/poems/ночь.txt\n",
      "/Users/annanevskaya/Documents/Python-glya-gumanitariev/Python/poems/сказки/король.txt\n",
      "/Users/annanevskaya/Documents/Python-glya-gumanitariev/Python/poems/сказки/крестная.txt\n",
      "/Users/annanevskaya/Documents/Python-glya-gumanitariev/Python/poems/сказки/гримм.txt\n",
      "/Users/annanevskaya/Documents/Python-glya-gumanitariev/Python/poems/сказки/королевич.txt\n",
      "/Users/annanevskaya/Documents/Python-glya-gumanitariev/Python/poems/сказки/яга.txt\n",
      "/Users/annanevskaya/Documents/Python-glya-gumanitariev/Python/poems/котики/кот.txt\n",
      "/Users/annanevskaya/Documents/Python-glya-gumanitariev/Python/poems/котики/пушок.txt\n",
      "/Users/annanevskaya/Documents/Python-glya-gumanitariev/Python/poems/котики/лео.txt\n"
     ]
    }
   ],
   "source": [
    "\n",
    "all_poems = open('poems.txt', 'w', encoding='utf-8')\n",
    "\n",
    "for root, dirs, files in os.walk(poems_dir):\n",
    "     for name in files:\n",
    "        item_path = os.path.join(root, name)\n",
    "        print(item_path)\n",
    "        if os.path.isfile(item_path):\n",
    "            with open(item_path, 'r', encoding='utf-8') as f:\n",
    "                poem = f.read()\n",
    "                all_poems.write(poem + \"\\n\")\n",
    "        \n",
    "all_poems.close()"
   ]
  },
  {
   "cell_type": "markdown",
   "metadata": {},
   "source": [
    "# Задание 3"
   ]
  },
  {
   "cell_type": "code",
   "execution_count": 16,
   "metadata": {
    "scrolled": true
   },
   "outputs": [
    {
     "name": "stdout",
     "output_type": "stream",
     "text": [
      "Длина текста 305\n"
     ]
    }
   ],
   "source": [
    "text = '''\n",
    "Удивительная кошка\n",
    "\n",
    "Несчастная кошка удивительная порезала лапу- \n",
    "Сидит, и ни шагу не может ступить.\n",
    "Скорей, чтобы вылечить кошкину лапу\n",
    "Воздушные шарики надо купить!\n",
    "\n",
    "И сразу столпился народ на дороге-\n",
    "Шумит, и кричит, и на кошку глядит.\n",
    "А кошка отчасти идет по дороге,\n",
    "Отчасти по воздуху плавно летит!\n",
    "'''\n",
    "\n",
    "print(\"Длина текста \" + str(len(text)))"
   ]
  },
  {
   "cell_type": "code",
   "execution_count": 18,
   "metadata": {
    "scrolled": true
   },
   "outputs": [
    {
     "data": {
      "text/plain": [
       "'!\"#$%&\\'()*+,-./:;<=>?@[\\\\]^_`{|}~'"
      ]
     },
     "execution_count": 18,
     "metadata": {},
     "output_type": "execute_result"
    }
   ],
   "source": [
    "import string\n",
    "string.punctuation"
   ]
  },
  {
   "cell_type": "code",
   "execution_count": 24,
   "metadata": {},
   "outputs": [
    {
     "name": "stdout",
     "output_type": "stream",
     "text": [
      "['Удивительная', 'кошка', 'Несчастная', 'кошка', 'удивительная', 'порезала', 'лапу', 'Сидит', 'и', 'ни', 'шагу', 'не', 'может', 'ступить', 'Скорей', 'чтобы', 'вылечить', 'кошкину', 'лапу', 'Воздушные', 'шарики', 'надо', 'купить', 'И', 'сразу', 'столпился', 'народ', 'на', 'дороге', 'Шумит', 'и', 'кричит', 'и', 'на', 'кошку', 'глядит', 'А', 'кошка', 'отчасти', 'идет', 'по', 'дороге', 'Отчасти', 'по', 'воздуху', 'плавно', 'летит']\n"
     ]
    }
   ],
   "source": [
    "\n",
    "clean_text = \"\".join([i for i in text if i not in string.punctuation])\n",
    "\n",
    "words = clean_text.split()\n",
    "\n",
    "print(words)"
   ]
  },
  {
   "cell_type": "code",
   "execution_count": 27,
   "metadata": {},
   "outputs": [
    {
     "name": "stdout",
     "output_type": "stream",
     "text": [
      "Удивительная кошка Несчастная кошка удивительная порезала лапу Сидит и ни шагу не может ступить Скорей чтобы вылечить кошкину лапу Воздушные шарики надо купить И сразу столпился народ на дороге Шумит и кричит и на кошку глядит А кошка отчасти идет по дороге Отчасти по воздуху плавно летит\n"
     ]
    }
   ],
   "source": [
    "text = \" \".join(words)\n",
    "print(text)"
   ]
  },
  {
   "cell_type": "code",
   "execution_count": 33,
   "metadata": {},
   "outputs": [
    {
     "name": "stdout",
     "output_type": "stream",
     "text": [
      "['удивительная', 'кошка', 'несчастная', 'кошка', 'удивительная', 'порезала', 'лапу', 'сидит', 'и', 'ни', 'шагу', 'не', 'может', 'ступить', 'скорей', 'чтобы', 'вылечить', 'кошкину', 'лапу', 'воздушные', 'шарики', 'надо', 'купить', 'и', 'сразу', 'столпился', 'народ', 'на', 'дороге', 'шумит', 'и', 'кричит', 'и', 'на', 'кошку', 'глядит', 'а', 'кошка', 'отчасти', 'идет', 'по', 'дороге', 'отчасти', 'по', 'воздуху', 'плавно', 'летит']\n"
     ]
    }
   ],
   "source": [
    "lower_words = [w.lower() for w in text.split()]\n",
    "print(lower_words)"
   ]
  },
  {
   "cell_type": "code",
   "execution_count": 159,
   "metadata": {},
   "outputs": [
    {
     "data": {
      "text/plain": [
       "'Длина текста в словах 47'"
      ]
     },
     "execution_count": 159,
     "metadata": {},
     "output_type": "execute_result"
    }
   ],
   "source": [
    "\"Длина текста в словах \" + str(len(lower_words))"
   ]
  },
  {
   "cell_type": "code",
   "execution_count": 160,
   "metadata": {},
   "outputs": [
    {
     "data": {
      "text/plain": [
       "'Количество уникальных слов 36'"
      ]
     },
     "execution_count": 160,
     "metadata": {},
     "output_type": "execute_result"
    }
   ],
   "source": [
    "\"Количество уникальных слов \" + str(len(set(lower_words)))"
   ]
  },
  {
   "cell_type": "code",
   "execution_count": 161,
   "metadata": {},
   "outputs": [
    {
     "data": {
      "text/plain": [
       "['кошка',\n",
       " 'отчасти',\n",
       " 'идет',\n",
       " 'по',\n",
       " 'дороге',\n",
       " 'отчасти',\n",
       " 'по',\n",
       " 'воздуху',\n",
       " 'плавно',\n",
       " 'летит']"
      ]
     },
     "execution_count": 161,
     "metadata": {},
     "output_type": "execute_result"
    }
   ],
   "source": [
    "lower_words[-10:]"
   ]
  },
  {
   "cell_type": "code",
   "execution_count": 162,
   "metadata": {},
   "outputs": [
    {
     "name": "stdout",
     "output_type": "stream",
     "text": [
      "Удивительная\n",
      "кошка\n",
      "Несчастная\n",
      "кошка\n",
      "удивительная\n",
      "порезала\n",
      "лапу\n",
      "Сидит\n",
      "и\n",
      "ни\n",
      "шагу\n",
      "не\n",
      "может\n",
      "ступить\n",
      "Скорей\n",
      "чтобы\n",
      "вылечить\n",
      "кошкину\n",
      "лапу\n",
      "Воздушные\n",
      "шарики\n",
      "надо\n",
      "купить\n",
      "И\n",
      "сразу\n",
      "столпился\n",
      "народ\n",
      "на\n",
      "дороге\n",
      "Шумит\n",
      "и\n",
      "кричит\n",
      "и\n",
      "на\n",
      "кошку\n",
      "глядит\n",
      "А\n",
      "кошка\n",
      "отчасти\n",
      "идет\n",
      "по\n",
      "дороге\n",
      "Отчасти\n",
      "по\n",
      "воздуху\n",
      "плавно\n",
      "летит\n"
     ]
    }
   ],
   "source": [
    "words_with_new_lines = \"\\n\".join(words)\n",
    "print(words_with_new_lines)"
   ]
  },
  {
   "cell_type": "code",
   "execution_count": 163,
   "metadata": {},
   "outputs": [
    {
     "data": {
      "text/plain": [
       "'есчастная\\n'"
      ]
     },
     "execution_count": 163,
     "metadata": {},
     "output_type": "execute_result"
    }
   ],
   "source": [
    "words_with_new_lines[20:30]"
   ]
  },
  {
   "cell_type": "code",
   "execution_count": 45,
   "metadata": {},
   "outputs": [
    {
     "name": "stdout",
     "output_type": "stream",
     "text": [
      "('кошкину', 'лапу') - 1\n",
      "('по', 'дороге') - 1\n",
      "('шумит', 'и') - 1\n",
      "('скорей', 'чтобы') - 1\n",
      "('народ', 'на') - 1\n",
      "('на', 'кошку') - 1\n",
      "('отчасти', 'по') - 1\n",
      "('сразу', 'столпился') - 1\n",
      "('идет', 'по') - 1\n",
      "('кошка', 'отчасти') - 1\n",
      "('дороге', 'шумит') - 1\n",
      "('лапу', 'сидит') - 1\n",
      "('кричит', 'и') - 1\n",
      "('плавно', 'летит') - 1\n",
      "('дороге', 'отчасти') - 1\n",
      "('столпился', 'народ') - 1\n",
      "('кошку', 'глядит') - 1\n",
      "('по', 'воздуху') - 1\n",
      "('глядит', 'а') - 1\n",
      "('несчастная', 'кошка') - 1\n",
      "('удивительная', 'порезала') - 1\n",
      "('ступить', 'скорей') - 1\n",
      "('и', 'сразу') - 1\n",
      "('ни', 'шагу') - 1\n",
      "('лапу', 'воздушные') - 1\n",
      "('и', 'ни') - 1\n",
      "('кошка', 'несчастная') - 1\n",
      "('воздуху', 'плавно') - 1\n",
      "('чтобы', 'вылечить') - 1\n",
      "('шарики', 'надо') - 1\n",
      "('вылечить', 'кошкину') - 1\n",
      "('и', 'кричит') - 1\n",
      "('не', 'может') - 1\n",
      "('надо', 'купить') - 1\n",
      "('может', 'ступить') - 1\n",
      "('шагу', 'не') - 1\n",
      "('на', 'дороге') - 1\n",
      "('сидит', 'и') - 1\n",
      "('воздушные', 'шарики') - 1\n",
      "('и', 'на') - 1\n",
      "('купить', 'и') - 1\n",
      "('а', 'кошка') - 1\n",
      "('кошка', 'удивительная') - 1\n",
      "('отчасти', 'идет') - 1\n",
      "('удивительная', 'кошка') - 1\n",
      "('порезала', 'лапу') - 1\n"
     ]
    }
   ],
   "source": [
    "text_bigrams = []\n",
    "for i in range(0, len(lower_words) - 1):\n",
    "    bigram = (lower_words[i], lower_words[i + 1])\n",
    "    text_bigrams.append(bigram)\n",
    "\n",
    "bigrams_set = set(text_bigrams)\n",
    "for bigram in bigrams_set:\n",
    "    print(str(bigram) + \" - \" + str(text_bigrams.count(bigram)))"
   ]
  },
  {
   "cell_type": "code",
   "execution_count": null,
   "metadata": {},
   "outputs": [],
   "source": []
  }
 ],
 "metadata": {
  "kernelspec": {
   "display_name": "Python 3",
   "language": "python",
   "name": "python3"
  },
  "language_info": {
   "codemirror_mode": {
    "name": "ipython",
    "version": 3
   },
   "file_extension": ".py",
   "mimetype": "text/x-python",
   "name": "python",
   "nbconvert_exporter": "python",
   "pygments_lexer": "ipython3",
   "version": "3.6.5"
  }
 },
 "nbformat": 4,
 "nbformat_minor": 2
}
